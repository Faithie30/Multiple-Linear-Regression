{
 "cells": [
  {
   "cell_type": "code",
   "execution_count": 177,
   "metadata": {},
   "outputs": [],
   "source": [
    "# Still to add markdowns"
   ]
  },
  {
   "cell_type": "markdown",
   "metadata": {},
   "source": [
    "# Multi-Linear Regression\n",
    "\n",
    "Multiple linear regression (MLR), also simply just knonwn as the multiple regression, is a statistical technique that uses several explanatory variables to predict the outcome of a response variable. MLR is to model the linear relationship between the explanatory (independent) variables and response (dependent) variable.\n",
    "\n",
    "- We will predict salary from all the variables in the training dataset. <br> \n",
    "- We are going to use a simple supervised learning technique: linear regression. "
   ]
  },
  {
   "cell_type": "markdown",
   "metadata": {},
   "source": [
    "## 1. Importing"
   ]
  },
  {
   "cell_type": "code",
   "execution_count": 178,
   "metadata": {},
   "outputs": [],
   "source": [
    "# importing libraries \n",
    "\n",
    "import matplotlib.pyplot as plt\n",
    "import pandas as pd\n",
    "import seaborn as sns\n",
    "from sklearn.model_selection import train_test_split\n",
    "import statsmodels.formula.api as smf\n",
    "import numpy as np\n",
    "from sklearn.linear_model import LinearRegression\n",
    "from scipy import stats\n",
    "from scipy.stats import pearsonr\n",
    "from sklearn.metrics import mean_squared_error as mse\n",
    "from math import sqrt\n",
    "import plotly.graph_objects as go\n",
    "from sklearn.linear_model import Ridge\n",
    "from yellowbrick.datasets import load_concrete\n",
    "from yellowbrick.regressor import ResidualsPlot\n"
   ]
  },
  {
   "cell_type": "code",
   "execution_count": 179,
   "metadata": {},
   "outputs": [
    {
     "data": {
      "text/html": [
       "<div>\n",
       "<style scoped>\n",
       "    .dataframe tbody tr th:only-of-type {\n",
       "        vertical-align: middle;\n",
       "    }\n",
       "\n",
       "    .dataframe tbody tr th {\n",
       "        vertical-align: top;\n",
       "    }\n",
       "\n",
       "    .dataframe thead th {\n",
       "        text-align: right;\n",
       "    }\n",
       "</style>\n",
       "<table border=\"1\" class=\"dataframe\">\n",
       "  <thead>\n",
       "    <tr style=\"text-align: right;\">\n",
       "      <th></th>\n",
       "      <th>salary</th>\n",
       "      <th>exprior</th>\n",
       "      <th>yearsworked</th>\n",
       "      <th>yearsrank</th>\n",
       "      <th>market</th>\n",
       "      <th>degree</th>\n",
       "      <th>otherqual</th>\n",
       "      <th>position</th>\n",
       "      <th>male</th>\n",
       "      <th>Field</th>\n",
       "      <th>yearsabs</th>\n",
       "    </tr>\n",
       "  </thead>\n",
       "  <tbody>\n",
       "    <tr>\n",
       "      <th>0</th>\n",
       "      <td>53000.0</td>\n",
       "      <td>0</td>\n",
       "      <td>0</td>\n",
       "      <td>0</td>\n",
       "      <td>1.17</td>\n",
       "      <td>1</td>\n",
       "      <td>0</td>\n",
       "      <td>1</td>\n",
       "      <td>1</td>\n",
       "      <td>3</td>\n",
       "      <td>0</td>\n",
       "    </tr>\n",
       "  </tbody>\n",
       "</table>\n",
       "</div>"
      ],
      "text/plain": [
       "    salary  exprior  yearsworked  yearsrank  market  degree  otherqual  \\\n",
       "0  53000.0        0            0          0    1.17       1          0   \n",
       "\n",
       "   position  male  Field  yearsabs  \n",
       "0         1     1      3         0  "
      ]
     },
     "execution_count": 179,
     "metadata": {},
     "output_type": "execute_result"
    }
   ],
   "source": [
    "# Reading data into a dataframe\n",
    "\n",
    "salaries = pd.read_csv('salary.csv')\n",
    "\n",
    "# printing the head of the dataset\n",
    "salaries.head(1)"
   ]
  },
  {
   "cell_type": "markdown",
   "metadata": {},
   "source": [
    "<h1><center>Type of data</center></h1> \n",
    "\n",
    "| Continuous | Categorical | Binary |\n",
    "| --- | --- | --- |\n",
    "| Salary | position | degree |\n",
    "| exprior | field | otherqual |\n",
    "| Yearsworked | - | male |\n",
    "| market | - | - |\n",
    "| yearsranked | - | -|\n",
    "| yearsabs | - | - |\n",
    "\n",
    "<h1><center>Feature description</center></h1> \n",
    "\n",
    "| Feature | Description |\n",
    "| --- | --- |\n",
    "| exprior | Years of experience prior to working in this field |\n",
    "| Yearsworked | Years worked in this field |\n",
    "| yearsrank | Years worked at current rank |\n",
    "| market | Market value (1 = salary at market value for position, <br> <1 salary lower than market value for position,<br> >1 salary higher than market value for position) |\n",
    "| degree | Has degree (0 = no 1= yes) |\n",
    "| otherqual | Has other post-secondary qualification (0 = no, 1=yes) |\n",
    "| position | Position (1 = Junior Employee 2=Manager 3= Executive) |\n",
    "| male | 0 = no 1 1=yes |\n",
    "| Field | Field of work (1 = Engineering 2=Finance 3=Human Resource 4=Marketing) |\n",
    "| yearsabs |Years absent from work (e.g. due to illness / child rearing / personal reasons)|\n",
    "\n",
    "<h1><center>Response description</center></h1> \n",
    "\n",
    "| Response | Description |\n",
    "| --- | --- |\n",
    "| <font color='black'> salary </font>| <font color='black'>  Annual salary in dollars </font> | "
   ]
  },
  {
   "cell_type": "markdown",
   "metadata": {},
   "source": [
    "## 2. Cleaning data\n",
    "Data cleaning is the process of detecting and correcting corrupt or inaccurate data from a dataset, table, or database and refers to identifying incomplete, incorrect, inaccurate or irrelevant parts of the data and then replacing, modifying, or deleting the dirty or coarse data.\n",
    "### 2.1 Examining missing values"
   ]
  },
  {
   "cell_type": "code",
   "execution_count": 180,
   "metadata": {},
   "outputs": [
    {
     "data": {
      "text/plain": [
       "salary         1\n",
       "exprior        0\n",
       "yearsworked    0\n",
       "yearsrank      0\n",
       "market         0\n",
       "degree         0\n",
       "otherqual      0\n",
       "position       0\n",
       "male           0\n",
       "Field          0\n",
       "yearsabs       0\n",
       "dtype: int64"
      ]
     },
     "execution_count": 180,
     "metadata": {},
     "output_type": "execute_result"
    }
   ],
   "source": [
    "#checking for missing values\n",
    "salaries.isnull().sum()"
   ]
  },
  {
   "cell_type": "code",
   "execution_count": 181,
   "metadata": {},
   "outputs": [],
   "source": [
    "#replacing the missing value with the mean\n",
    "salaries['salary']= salaries.fillna(salaries['salary'].mean())"
   ]
  },
  {
   "cell_type": "markdown",
   "metadata": {},
   "source": [
    "##### What we did with the missing values in the data\n",
    "\n",
    "- We <b>filled</b> the missing value that appeared in the <b>salary</b> column with the <b>mean</b> of that column."
   ]
  },
  {
   "cell_type": "markdown",
   "metadata": {},
   "source": [
    "### 2.2 Examing duplicates within the dataset "
   ]
  },
  {
   "cell_type": "code",
   "execution_count": 182,
   "metadata": {},
   "outputs": [],
   "source": [
    "#Dropping duplicates\n",
    "salaries.drop_duplicates(inplace = True)"
   ]
  },
  {
   "cell_type": "markdown",
   "metadata": {},
   "source": [
    "##### Dealing with duplicates within the dataset\n",
    "\n",
    "We dropped any duplicates that may exist within the dataset"
   ]
  },
  {
   "cell_type": "markdown",
   "metadata": {},
   "source": [
    "### 2.3 Examining outliers within the dataset\n",
    "In statistics, an outlier is an observation point that is distant from other observations."
   ]
  },
  {
   "cell_type": "code",
   "execution_count": 183,
   "metadata": {},
   "outputs": [
    {
     "data": {
      "image/png": "[encoded data removed]",
      "text/plain": [
       "<Figure size 360x360 with 2 Axes>"
      ]
     },
     "metadata": {},
     "output_type": "display_data"
    }
   ],
   "source": [
    "# Check for extreme values\n",
    "\n",
    "sns.set()\n",
    "sns.set(style=\"whitegrid\")\n",
    "fig, axes = plt.subplots(1,2, figsize=(5, 5))\n",
    "sns.boxplot(x=salaries[\"salary\"], ax=axes[0], data = salaries)\n",
    "sns.boxplot(x=salaries[\"yearsworked\"], ax=axes[1],data = salaries);\n",
    "q3,q1 = np.percentile(salaries, [75,25])\n",
    "IQR = q3-q1"
   ]
  },
  {
   "cell_type": "code",
   "execution_count": 184,
   "metadata": {},
   "outputs": [],
   "source": [
    "# Removing the outliers\n",
    "new_salaries = salaries[~((salaries <(q1-1.5*IQR))| (salaries > (q3+1.5*IQR))).any(axis=1)]"
   ]
  },
  {
   "cell_type": "markdown",
   "metadata": {},
   "source": [
    "##### Outliers\n",
    "\n",
    "Using the box plot method have observed <b> two outliers</b> for the salary values, and <b>none</b> for the yearsworked values. \n",
    "How we intend on dealing with the outliers is to <b>remove </b> them, so that the model that we will build will not be affected."
   ]
  },
  {
   "cell_type": "markdown",
   "metadata": {},
   "source": [
    "### 2.4 Spliting data"
   ]
  },
  {
   "cell_type": "code",
   "execution_count": 185,
   "metadata": {},
   "outputs": [],
   "source": [
    "#Split our data\n",
    "x = salaries[['exprior','yearsworked','yearsrank','market','degree','otherqual','position', 'male','Field','yearsabs']]\n",
    "y = salaries['salary']\n",
    "X_train, X_test, y_train, y_test = train_test_split(x, y, test_size=0.20)\n",
    "# y_train = pd.DataFrame(y_train)\n",
    "combined = pd.concat([X_train, y_train], axis=1)"
   ]
  },
  {
   "cell_type": "code",
   "execution_count": 186,
   "metadata": {},
   "outputs": [],
   "source": [
    "#one hot encoding\n",
    "\n",
    "# field = pd.get_dummies(combined['Field'])\n",
    "# field.drop(1, inplace=True, axis=1)\n",
    "\n",
    "# new_field = field.rename(columns={2:'Finance',3:'HR',4:'Marketing'})\n",
    "\n",
    "# combined = pd.concat([combined, new_field] ,axis=1, ignore_index=False)\n",
    "# combined.drop(\"Field\", inplace=True, axis=1)\n",
    "# combined.head(1)"
   ]
  },
  {
   "cell_type": "markdown",
   "metadata": {},
   "source": [
    "## 3. Exploratory data analysis (EDA)"
   ]
  },
  {
   "cell_type": "markdown",
   "metadata": {},
   "source": [
    "### 3.1 Multi-variate graphs"
   ]
  },
  {
   "cell_type": "code",
   "execution_count": null,
   "metadata": {},
   "outputs": [],
   "source": [
    "sns.set()\n",
    "sns.set(style=\"whitegrid\")\n",
    "fig, axes = plt.subplots(4,3, figsize=(15, 15))\n",
    "lx = sns.boxplot(combined.Field,combined.salary, ax=axes[0,0], data = combined)\n",
    "mx = sns.boxplot(combined.position,combined.salary, ax=axes[0,1], data = combined)\n",
    "nx = sns.boxplot(combined.degree,combined.salary, ax=axes[0,2], data = combined)\n",
    "ox = sns.boxplot(combined.otherqual,combined.salary, ax=axes[1,0], data = combined)\n",
    "px = sns.boxplot(combined.male,combined.salary, ax=axes[1,1], data = combined)\n",
    "qx = sns.boxplot(combined.yearsrank,combined.salary, ax=axes[1,2], data = combined)\n",
    "rx = sns.boxplot(combined.exprior,combined.salary, ax=axes[2,0], data = combined)\n",
    "sx = sns.boxplot(combined.yearsworked,combined.salary, ax=axes[2,1], data = combined)\n",
    "tx = sns.boxplot(combined.market,combined.salary, ax=axes[2,2], data = combined)\n",
    "ax = sns.boxplot(combined.yearsabs,combined.salary, ax=axes[3,0], data = combined)\n",
    "\n",
    "lx.set_xticklabels(['Engineering', 'Finance','Human Resources','Marketing'])\n",
    "mx.set_xticklabels(['Junior Employee', 'Manager','Executive'])\n",
    "nx.set_xticklabels(['No', 'Yes'])\n",
    "ox.set_xticklabels(['No', 'Yes'])\n",
    "px.set_xticklabels(['No', 'Yes'])\n",
    "\n",
    "\n",
    "plt.show()"
   ]
  },
  {
   "cell_type": "code",
   "execution_count": null,
   "metadata": {},
   "outputs": [],
   "source": [
    "fig, ax = plt.subplots(2,3, figsize=(15,7))\n",
    "# use unstack()\n",
    "combined.groupby(['yearsworked','Field']).count()['salary'].unstack().plot(ax=ax[0,0])\n",
    "combined.groupby(['yearsworked','degree']).count()['salary'].unstack().plot(ax=ax[0,1])\n",
    "combined.groupby(['yearsworked','otherqual']).count()['salary'].unstack().plot(ax=ax[0,2]);\n",
    "combined.groupby(['yearsworked','position']).count()['salary'].unstack().plot(ax=ax[1,0])\n",
    "combined.groupby(['yearsworked','male']).count()['salary'].unstack().plot(ax=ax[1,1]);"
   ]
  },
  {
   "cell_type": "code",
   "execution_count": null,
   "metadata": {},
   "outputs": [],
   "source": [
    "import plotly.express as px\n",
    "df = px.data.tips()\n",
    "fig = px.histogram(combined, x=\"exprior\", y=\"salary\", color=\"Field\",\n",
    "                   marginal=\"box\",\n",
    "                   hover_data=combined.columns)\n",
    "fig.show()"
   ]
  },
  {
   "cell_type": "markdown",
   "metadata": {},
   "source": [
    "## 4. Modelling  \n",
    "\n",
    "<b>Hypothesis testing: </b> <br>\n",
    "H0: Does not have signficant relationship <br>\n",
    "Ha: Has significant relationship"
   ]
  },
  {
   "cell_type": "markdown",
   "metadata": {},
   "source": [
    "### 4.1 Fitting linear regression"
   ]
  },
  {
   "cell_type": "code",
   "execution_count": null,
   "metadata": {},
   "outputs": [],
   "source": [
    "# Fit regression model \n",
    "results = smf.ols('salary ~ exprior+yearsworked+yearsrank+market+degree+otherqual+position+male+Field+yearsabs', data=combined).fit()\n",
    "\n",
    "# Inspect the results\n",
    "print(results.summary())"
   ]
  },
  {
   "cell_type": "markdown",
   "metadata": {},
   "source": [
    "## 5 Linear Regression assumptions"
   ]
  },
  {
   "cell_type": "code",
   "execution_count": null,
   "metadata": {},
   "outputs": [],
   "source": [
    "# 1. Linear relationship\n",
    "\n",
    "sns.set()\n",
    "# sns.set(style = 'whitegrid')\n",
    "fig, axes = plt.subplots(2,5, figsize=(16,16))\n",
    "\n",
    "sns.regplot(x=X_train['exprior'], y=y_train, ax= axes[0,0])\n",
    "sns.regplot(x=X_train['yearsworked'], y=y_train,ax= axes[0,1]);\n",
    "sns.regplot(x=X_train['yearsrank'], y=y_train, ax= axes[0,2])\n",
    "sns.regplot(x=X_train['yearsabs'], y=y_train,ax= axes[0,3]);\n",
    "sns.regplot(x=X_train['market'], y=y_train,ax= axes[0,4]);\n",
    "sns.regplot(x=X_train['Field'], y=y_train,ax= axes[1,0]);\n",
    "sns.regplot(x=X_train['degree'], y=y_train, ax= axes[1,1])\n",
    "sns.regplot(x=X_train['otherqual'], y=y_train,ax= axes[1,2]);\n",
    "sns.regplot(x=X_train['male'], y=y_train, ax= axes[1,3])\n",
    "sns.regplot(x=X_train['position'], y=y_train,ax= axes[1,4]);\n",
    "\n"
   ]
  },
  {
   "cell_type": "code",
   "execution_count": null,
   "metadata": {},
   "outputs": [],
   "source": [
    "# 2. Multivariate normality\n",
    "\n",
    "fig, axes = plt.subplots(3,5, figsize=(16,16))\n",
    "\n",
    "sns.distplot(X_train['exprior'],ax= axes[0,0])\n",
    "sns.distplot(X_train['yearsworked'],ax= axes[0,1]);\n",
    "sns.distplot(X_train['yearsrank'],ax= axes[0,2])\n",
    "sns.distplot(X_train['yearsabs'],ax= axes[0,3]);\n",
    "sns.distplot(X_train['market'],ax= axes[0,4]);\n",
    "sns.distplot(X_train['Field'],ax= axes[1,0]);\n",
    "sns.distplot(X_train['degree'],ax= axes[1,1])\n",
    "sns.distplot(X_train['otherqual'],ax= axes[1,2]);\n",
    "sns.distplot(X_train['male'],ax= axes[1,3])\n",
    "sns.distplot(X_train['position'],ax= axes[1,4]);\n",
    "sns.distplot(combined['salary'],ax= axes[2,0]);\n"
   ]
  },
  {
   "cell_type": "code",
   "execution_count": null,
   "metadata": {},
   "outputs": [],
   "source": [
    "# 3. No or little multicollinearity\n",
    "\n",
    "corr = X_train.corr()\n",
    "corr.style.background_gradient(cmap='coolwarm')"
   ]
  },
  {
   "cell_type": "code",
   "execution_count": null,
   "metadata": {},
   "outputs": [],
   "source": [
    "# 4. No auto-correlation\n",
    "\n",
    "from statsmodels.graphics.tsaplots import plot_acf\n",
    "plot_acf(salaries['salary'])\n",
    "plt.show()"
   ]
  },
  {
   "cell_type": "code",
   "execution_count": null,
   "metadata": {},
   "outputs": [],
   "source": [
    "# 5. Homoscedasticity\n",
    "\n",
    "regression = LinearRegression().fit(X_train, y_train)\n",
    "model = Ridge()\n",
    "visualizer = ResidualsPlot(model)\n",
    "\n",
    "# visualizer = ResidualsPlot(regression)\n",
    "visualizer.fit(X_train, y_train)  \n",
    "visualizer.score(X_test, y_test)  \n",
    "visualizer.show();"
   ]
  },
  {
   "cell_type": "markdown",
   "metadata": {},
   "source": [
    "### 3.4 RSME"
   ]
  },
  {
   "cell_type": "code",
   "execution_count": null,
   "metadata": {},
   "outputs": [],
   "source": [
    "# RSME for training dataset\n",
    "train = results.predict(X_train)\n",
    "\n",
    "m_s_e = sqrt(mse(y_train, train))\n",
    "m_s_e"
   ]
  },
  {
   "cell_type": "code",
   "execution_count": null,
   "metadata": {},
   "outputs": [],
   "source": [
    "# RSME for test dataset\n",
    "test = results.predict(X_test)\n",
    "\n",
    "msse = sqrt(mse(y_test, test))\n",
    "msse"
   ]
  },
  {
   "cell_type": "markdown",
   "metadata": {},
   "source": [
    "##### What is the difference in the Root Mean Square Error (RMSE) between the training and test sets? Is there any evidence of overfitting?\n",
    "\n",
    "Our model performs better on the train dataset than it does on the test set. With this we can now conclude that the model is overfitted. We say this because our model shows low bias but high variance. To better train our model we need to identify relevant variables and terms that you are likely to influence our outcome that we hoping for\n",
    "\n",
    "RMSE_train is bigger than  RMSE_test by slight margin therefore there is overfitting on our model."
   ]
  }
 ],
 "metadata": {
  "kernelspec": {
   "display_name": "Python 3",
   "language": "python",
   "name": "python3"
  },
  "language_info": {
   "codemirror_mode": {
    "name": "ipython",
    "version": 3
   },
   "file_extension": ".py",
   "mimetype": "text/x-python",
   "name": "python",
   "nbconvert_exporter": "python",
   "pygments_lexer": "ipython3",
   "version": "3.7.3"
  }
 },
 "nbformat": 4,
 "nbformat_minor": 2
}
